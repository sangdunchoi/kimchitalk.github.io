{
 "cells": [
  {
   "cell_type": "markdown",
   "metadata": {
    "deletable": true,
    "editable": true
   },
   "source": [
    "# Scientific report: Acceptance and publication date analysis\n",
    "\n",
    "I started analysing the acceptance and publication dates in the journal [Scientific Reports](http://www.nature.com/srep/) just as an python exercise. For instance, consider this [article](http://www.nature.com/articles/srep00001). \n",
    "\n",
    "Received: 10 February 2011<br>\n",
    "\n",
    "Accepted: 01 March 2011<br>\n",
    "\n",
    "Published online: 14 June 2011<br>\n",
    "\n",
    "The dates for acceptance and publication can be calculated by \n",
    "\n",
    "No. of days to get accepted = Accepted date - Recieved date <br> \n",
    "\n",
    "No. of days to publish online after acceptance = Published online - Accepted date <br>\n",
    "\n",
    "Total no. of days = Published online - Recieved date <br>"
   ]
  },
  {
   "cell_type": "markdown",
   "metadata": {
    "deletable": true,
    "editable": true
   },
   "source": [
    "We save the fields for ~30000 articles (available here) : \n",
    "\n",
    "    1) DOI of the article\n",
    "    2) Date_recieved, \n",
    "    3) Date_accepted, \n",
    "    4) Date_published,\n",
    "    5) Year, \n",
    "    6) Time_taken_to_accept\n",
    "    7) Time_taken_to_publish\n",
    "    8) Total_time"
   ]
  },
  {
   "cell_type": "code",
   "execution_count": 1,
   "metadata": {
    "collapsed": false,
    "deletable": true,
    "editable": true
   },
   "outputs": [
    {
     "name": "stdout",
     "output_type": "stream",
     "text": [
      "DOI, Date_recieved, Date_accepted, Date_published, Year, Time_taken_to_accept, Time_taken_to_publish, Total_time\r\n",
      "doi:10.1038/srep00001,2011-02-10,2011-03-01,2011-06-14,2011,19,105,124 \r\n",
      "doi:10.1038/srep00002,2011-01-12,2011-04-26,2011-06-14,2011,104,49,153 \r\n",
      "doi:10.1038/srep00003,2011-03-07,2011-05-03,2011-06-14,2011,57,42,99 \r\n",
      "doi:10.1038/srep00004,2011-01-20,2011-03-21,2011-06-14,2011,60,85,145 \r\n",
      "doi:10.1038/srep00005,2011-01-19,2011-03-10,2011-06-14,2011,50,96,146 \r\n",
      "doi:10.1038/srep00006,2011-01-20,2011-03-21,2011-06-14,2011,60,85,145 \r\n",
      "doi:10.1038/srep00007,2011-03-03,2011-04-04,2011-06-14,2011,32,71,103 \r\n",
      "doi:10.1038/srep00008,2011-03-14,2011-04-07,2011-06-14,2011,24,68,92 \r\n",
      "doi:10.1038/srep00009,2011-02-25,2011-04-05,2011-06-14,2011,39,70,109 \r\n"
     ]
    }
   ],
   "source": [
    "#Let's view the file using ipython notebook as linux shell by using the below command.\n",
    "\n",
    "!head -10 scientific_reports_analysis.txt"
   ]
  },
  {
   "cell_type": "code",
   "execution_count": 2,
   "metadata": {
    "collapsed": true,
    "deletable": true,
    "editable": true
   },
   "outputs": [],
   "source": [
    "import pandas as pd\n",
    "\n",
    "data = pd.read_csv('scientific_reports_analysis.txt')"
   ]
  },
  {
   "cell_type": "code",
   "execution_count": 3,
   "metadata": {
    "collapsed": false,
    "deletable": true,
    "editable": true
   },
   "outputs": [
    {
     "data": {
      "text/plain": [
       "Index([u'DOI', u' Date_recieved', u' Date_accepted', u' Date_published',\n",
       "       u' Year', u' Time_taken_to_accept', u' Time_taken_to_publish',\n",
       "       u' Total_time'],\n",
       "      dtype='object')"
      ]
     },
     "execution_count": 3,
     "metadata": {},
     "output_type": "execute_result"
    }
   ],
   "source": [
    "data.columns"
   ]
  },
  {
   "cell_type": "code",
   "execution_count": 4,
   "metadata": {
    "collapsed": true,
    "deletable": true,
    "editable": true
   },
   "outputs": [],
   "source": [
    "#Strip the whitespace in the column header\n",
    "\n",
    "data = data.rename(columns=lambda x: x.strip())"
   ]
  },
  {
   "cell_type": "code",
   "execution_count": 5,
   "metadata": {
    "collapsed": false,
    "deletable": true,
    "editable": true
   },
   "outputs": [
    {
     "data": {
      "text/plain": [
       "Index([u'DOI', u'Date_recieved', u'Date_accepted', u'Date_published', u'Year',\n",
       "       u'Time_taken_to_accept', u'Time_taken_to_publish', u'Total_time'],\n",
       "      dtype='object')"
      ]
     },
     "execution_count": 5,
     "metadata": {},
     "output_type": "execute_result"
    }
   ],
   "source": [
    "data.columns"
   ]
  },
  {
   "cell_type": "code",
   "execution_count": 6,
   "metadata": {
    "collapsed": false,
    "deletable": true,
    "editable": true
   },
   "outputs": [
    {
     "data": {
      "text/plain": [
       "29356"
      ]
     },
     "execution_count": 6,
     "metadata": {},
     "output_type": "execute_result"
    }
   ],
   "source": [
    "#Count number of columns\n",
    "data.DOI.count()"
   ]
  },
  {
   "cell_type": "code",
   "execution_count": 7,
   "metadata": {
    "collapsed": true,
    "deletable": true,
    "editable": true
   },
   "outputs": [],
   "source": [
    "#Selecting th required columns\n",
    "\n",
    "acceptance = data[['DOI','Time_taken_to_accept']]"
   ]
  },
  {
   "cell_type": "code",
   "execution_count": 8,
   "metadata": {
    "collapsed": false,
    "deletable": true,
    "editable": true
   },
   "outputs": [
    {
     "data": {
      "text/html": [
       "<div>\n",
       "<table border=\"1\" class=\"dataframe\">\n",
       "  <thead>\n",
       "    <tr style=\"text-align: right;\">\n",
       "      <th></th>\n",
       "      <th>DOI</th>\n",
       "      <th>Time_taken_to_accept</th>\n",
       "    </tr>\n",
       "  </thead>\n",
       "  <tbody>\n",
       "    <tr>\n",
       "      <th>0</th>\n",
       "      <td>doi:10.1038/srep00001</td>\n",
       "      <td>19</td>\n",
       "    </tr>\n",
       "    <tr>\n",
       "      <th>1</th>\n",
       "      <td>doi:10.1038/srep00002</td>\n",
       "      <td>104</td>\n",
       "    </tr>\n",
       "    <tr>\n",
       "      <th>2</th>\n",
       "      <td>doi:10.1038/srep00003</td>\n",
       "      <td>57</td>\n",
       "    </tr>\n",
       "    <tr>\n",
       "      <th>3</th>\n",
       "      <td>doi:10.1038/srep00004</td>\n",
       "      <td>60</td>\n",
       "    </tr>\n",
       "    <tr>\n",
       "      <th>4</th>\n",
       "      <td>doi:10.1038/srep00005</td>\n",
       "      <td>50</td>\n",
       "    </tr>\n",
       "  </tbody>\n",
       "</table>\n",
       "</div>"
      ],
      "text/plain": [
       "                     DOI  Time_taken_to_accept\n",
       "0  doi:10.1038/srep00001                    19\n",
       "1  doi:10.1038/srep00002                   104\n",
       "2  doi:10.1038/srep00003                    57\n",
       "3  doi:10.1038/srep00004                    60\n",
       "4  doi:10.1038/srep00005                    50"
      ]
     },
     "execution_count": 8,
     "metadata": {},
     "output_type": "execute_result"
    }
   ],
   "source": [
    "acceptance.head(5)"
   ]
  },
  {
   "cell_type": "code",
   "execution_count": 9,
   "metadata": {
    "collapsed": false,
    "deletable": true,
    "editable": true
   },
   "outputs": [
    {
     "data": {
      "text/plain": [
       "DOI                     doi:10.1038/srep22960\n",
       "Time_taken_to_accept                      877\n",
       "Name: 22414, dtype: object"
      ]
     },
     "execution_count": 9,
     "metadata": {},
     "output_type": "execute_result"
    }
   ],
   "source": [
    "#find maximum\n",
    "acceptance.loc[acceptance['Time_taken_to_accept'].idxmax()]"
   ]
  },
  {
   "cell_type": "code",
   "execution_count": 10,
   "metadata": {
    "collapsed": false,
    "deletable": true,
    "editable": true
   },
   "outputs": [
    {
     "data": {
      "text/plain": [
       "2"
      ]
     },
     "execution_count": 10,
     "metadata": {},
     "output_type": "execute_result"
    }
   ],
   "source": [
    "#Calculate year from days\n",
    "\n",
    "877/365"
   ]
  },
  {
   "cell_type": "markdown",
   "metadata": {
    "deletable": true,
    "editable": true
   },
   "source": [
    "\"\"\"\n",
    "\n",
    "This is the arcile http://www.nature.com/articles/srep22960\n",
    "\n",
    "It seems this journal approximately 2 years and 4 months to get accepted\n",
    "\n",
    "\"\"\""
   ]
  },
  {
   "cell_type": "code",
   "execution_count": 11,
   "metadata": {
    "collapsed": false,
    "deletable": true,
    "editable": true
   },
   "outputs": [
    {
     "data": {
      "text/plain": [
       "DOI                     doi:10.1038/srep20442\n",
       "Time_taken_to_accept                     -284\n",
       "Name: 19978, dtype: object"
      ]
     },
     "execution_count": 11,
     "metadata": {},
     "output_type": "execute_result"
    }
   ],
   "source": [
    "#find minimum day\n",
    "\n",
    "acceptance.loc[acceptance['Time_taken_to_accept'].idxmin()]"
   ]
  },
  {
   "cell_type": "markdown",
   "metadata": {
    "deletable": true,
    "editable": true
   },
   "source": [
    "ohh there is some error in the date. It showed a negative value. \n",
    "Let us check the article. \n",
    "\n",
    "This is the journal URL http://www.nature.com/articles/srep20442\n",
    "\n",
    "Received: 15 October 2015 <br>\n",
    "\n",
    "Accepted: 04 January 2015 <br>\n",
    "\n",
    "Published online: 05 February 2016 <br>\n",
    "\n",
    "There is a typo in the journal article. Accepted date should be 2016 instead of 2015. Either we can change the typo or we can remove the values that contains negative values. Let us check how many number of negative values here in the data \"acceptance\". <br>"
   ]
  },
  {
   "cell_type": "code",
   "execution_count": 12,
   "metadata": {
    "collapsed": false,
    "deletable": true,
    "editable": true
   },
   "outputs": [
    {
     "data": {
      "text/plain": [
       "10374   -233\n",
       "11328   -174\n",
       "19978   -284\n",
       "Name: Time_taken_to_accept, dtype: int64"
      ]
     },
     "execution_count": 12,
     "metadata": {},
     "output_type": "execute_result"
    }
   ],
   "source": [
    "#list the negative values of the column \n",
    "\n",
    "mask = acceptance.Time_taken_to_accept < 0\n",
    "\n",
    "acceptance.Time_taken_to_accept[mask]"
   ]
  },
  {
   "cell_type": "code",
   "execution_count": 13,
   "metadata": {
    "collapsed": false,
    "deletable": true,
    "editable": true
   },
   "outputs": [
    {
     "data": {
      "text/html": [
       "<div>\n",
       "<table border=\"1\" class=\"dataframe\">\n",
       "  <thead>\n",
       "    <tr style=\"text-align: right;\">\n",
       "      <th></th>\n",
       "      <th>DOI</th>\n",
       "      <th>Time_taken_to_accept</th>\n",
       "    </tr>\n",
       "  </thead>\n",
       "  <tbody>\n",
       "    <tr>\n",
       "      <th>10374</th>\n",
       "      <td>doi:10.1038/srep10611</td>\n",
       "      <td>-233</td>\n",
       "    </tr>\n",
       "    <tr>\n",
       "      <th>11328</th>\n",
       "      <td>doi:10.1038/srep11576</td>\n",
       "      <td>-174</td>\n",
       "    </tr>\n",
       "    <tr>\n",
       "      <th>19978</th>\n",
       "      <td>doi:10.1038/srep20442</td>\n",
       "      <td>-284</td>\n",
       "    </tr>\n",
       "  </tbody>\n",
       "</table>\n",
       "</div>"
      ],
      "text/plain": [
       "                         DOI  Time_taken_to_accept\n",
       "10374  doi:10.1038/srep10611                  -233\n",
       "11328  doi:10.1038/srep11576                  -174\n",
       "19978  doi:10.1038/srep20442                  -284"
      ]
     },
     "execution_count": 13,
     "metadata": {},
     "output_type": "execute_result"
    }
   ],
   "source": [
    "#fetch the columns by index number\n",
    "\n",
    "List = [10374, 11328,19978]\n",
    "acceptance.ix[List]"
   ]
  },
  {
   "cell_type": "markdown",
   "metadata": {
    "deletable": true,
    "editable": true
   },
   "source": [
    "Let us check the full text of these articles\n",
    "\n",
    "http://www.nature.com/articles/srep10611\n",
    "\n",
    "Received: 10 December 2015\n",
    "    \n",
    "Accepted: 21 April 2015\n",
    "    \n",
    "Published online: 02 June 2015\n",
    "    \n",
    "\n",
    "http://www.nature.com/articles/srep11576\n",
    "\n",
    "Received: 19 November 2015\n",
    "\n",
    "Accepted: 29 May 2015\n",
    "\n",
    "Published online: 23 June 2015\n",
    "    \n",
    "\n",
    "http://www.nature.com/articles/srep20442\n",
    "    \n",
    "Received: 15 October 2015\n",
    "    \n",
    "Accepted: 04 January 2015\n",
    "\n",
    "Published online: 05 February 2016\n",
    "\n",
    "There is a typo in the year for all three articles. For the sake of this analysis we can remove the three rows."
   ]
  },
  {
   "cell_type": "code",
   "execution_count": 14,
   "metadata": {
    "collapsed": false,
    "deletable": true,
    "editable": true
   },
   "outputs": [],
   "source": [
    "acceptance = acceptance.drop(acceptance.index[[10374, 11328,19978]])"
   ]
  },
  {
   "cell_type": "code",
   "execution_count": 15,
   "metadata": {
    "collapsed": false,
    "deletable": true,
    "editable": true
   },
   "outputs": [
    {
     "data": {
      "text/plain": [
       "29353"
      ]
     },
     "execution_count": 15,
     "metadata": {},
     "output_type": "execute_result"
    }
   ],
   "source": [
    "#Count number of columns again\n",
    "acceptance.DOI.count()"
   ]
  },
  {
   "cell_type": "code",
   "execution_count": 16,
   "metadata": {
    "collapsed": false,
    "deletable": true,
    "editable": true
   },
   "outputs": [
    {
     "data": {
      "text/plain": [
       "DOI                     doi:10.1038/srep01096\n",
       "Time_taken_to_accept                        0\n",
       "Name: 1076, dtype: object"
      ]
     },
     "execution_count": 16,
     "metadata": {},
     "output_type": "execute_result"
    }
   ],
   "source": [
    "#find minimum value\n",
    "\n",
    "acceptance.loc[acceptance['Time_taken_to_accept'].idxmin()]"
   ]
  },
  {
   "cell_type": "markdown",
   "metadata": {
    "deletable": true,
    "editable": true
   },
   "source": [
    "Here is the full text [article](http://www.nature.com/articles/srep01096)\n",
    "\n",
    "Received: 06 December 2012\n",
    "\n",
    "Accepted: 06 December 2012\n",
    "\n",
    "Published online: 21 January 2013\n",
    "\n",
    "This article is accepted on the same day :))"
   ]
  },
  {
   "cell_type": "code",
   "execution_count": 17,
   "metadata": {
    "collapsed": false,
    "deletable": true,
    "editable": true
   },
   "outputs": [
    {
     "data": {
      "text/plain": [
       "119.27959663407488"
      ]
     },
     "execution_count": 17,
     "metadata": {},
     "output_type": "execute_result"
    }
   ],
   "source": [
    "#let us find the mean time to get acceptance\n",
    "\n",
    "acceptance[\"Time_taken_to_accept\"].mean()"
   ]
  },
  {
   "cell_type": "code",
   "execution_count": 18,
   "metadata": {
    "collapsed": false,
    "deletable": true,
    "editable": true
   },
   "outputs": [
    {
     "data": {
      "text/plain": [
       "64.37758213175188"
      ]
     },
     "execution_count": 18,
     "metadata": {},
     "output_type": "execute_result"
    }
   ],
   "source": [
    "import numpy as np\n",
    "np.std(acceptance.Time_taken_to_accept)"
   ]
  },
  {
   "cell_type": "code",
   "execution_count": 19,
   "metadata": {
    "collapsed": false,
    "deletable": true,
    "editable": true
   },
   "outputs": [
    {
     "name": "stderr",
     "output_type": "stream",
     "text": [
      "/home/suresh/.software/anaconda/lib/python2.7/site-packages/matplotlib/font_manager.py:273: UserWarning: Matplotlib is building the font cache using fc-list. This may take a moment.\n",
      "  warnings.warn('Matplotlib is building the font cache using fc-list. This may take a moment.')\n"
     ]
    }
   ],
   "source": [
    "import numpy as np\n",
    "import matplotlib.pyplot as plt"
   ]
  },
  {
   "cell_type": "code",
   "execution_count": 20,
   "metadata": {
    "collapsed": false,
    "deletable": true,
    "editable": true
   },
   "outputs": [
    {
     "data": {
      "text/html": [
       "<div>\n",
       "<table border=\"1\" class=\"dataframe\">\n",
       "  <thead>\n",
       "    <tr style=\"text-align: right;\">\n",
       "      <th></th>\n",
       "      <th>DOI</th>\n",
       "      <th>Time_taken_to_accept</th>\n",
       "    </tr>\n",
       "  </thead>\n",
       "  <tbody>\n",
       "    <tr>\n",
       "      <th>0</th>\n",
       "      <td>doi:10.1038/srep00001</td>\n",
       "      <td>19</td>\n",
       "    </tr>\n",
       "    <tr>\n",
       "      <th>1</th>\n",
       "      <td>doi:10.1038/srep00002</td>\n",
       "      <td>104</td>\n",
       "    </tr>\n",
       "    <tr>\n",
       "      <th>2</th>\n",
       "      <td>doi:10.1038/srep00003</td>\n",
       "      <td>57</td>\n",
       "    </tr>\n",
       "  </tbody>\n",
       "</table>\n",
       "</div>"
      ],
      "text/plain": [
       "                     DOI  Time_taken_to_accept\n",
       "0  doi:10.1038/srep00001                    19\n",
       "1  doi:10.1038/srep00002                   104\n",
       "2  doi:10.1038/srep00003                    57"
      ]
     },
     "execution_count": 20,
     "metadata": {},
     "output_type": "execute_result"
    }
   ],
   "source": [
    "acceptance.head(3)"
   ]
  },
  {
   "cell_type": "code",
   "execution_count": 21,
   "metadata": {
    "collapsed": false,
    "deletable": true,
    "editable": true
   },
   "outputs": [
    {
     "data": {
      "text/plain": [
       "Int64Index([    0,     1,     2,     3,     4,     5,     6,     7,     8,\n",
       "                9,\n",
       "            ...\n",
       "            29346, 29347, 29348, 29349, 29350, 29351, 29352, 29353, 29354,\n",
       "            29355],\n",
       "           dtype='int64', length=29353)"
      ]
     },
     "execution_count": 21,
     "metadata": {},
     "output_type": "execute_result"
    }
   ],
   "source": [
    "acceptance.index"
   ]
  },
  {
   "cell_type": "code",
   "execution_count": 22,
   "metadata": {
    "collapsed": false,
    "deletable": true,
    "editable": true
   },
   "outputs": [],
   "source": [
    "%matplotlib inline"
   ]
  },
  {
   "cell_type": "code",
   "execution_count": 25,
   "metadata": {
    "collapsed": false,
    "deletable": true,
    "editable": true
   },
   "outputs": [
    {
     "data": {
      "text/plain": [
       "<matplotlib.text.Text at 0x7f085fd5f050>"
      ]
     },
     "execution_count": 25,
     "metadata": {},
     "output_type": "execute_result"
    },
    {
     "data": {
      "image/png": "[encoded data removed]",
      "text/plain": [
       "<matplotlib.figure.Figure at 0x7f085fd9b990>"
      ]
     },
     "metadata": {},
     "output_type": "display_data"
    }
   ],
   "source": [
    "plt.scatter(acceptance.index, acceptance.Time_taken_to_accept)\n",
    "plt.xlabel(\"Index\")\n",
    "plt.ylabel(\"No. of days\")"
   ]
  }
 ],
 "metadata": {
  "kernelspec": {
   "display_name": "Python 2",
   "language": "python",
   "name": "python2"
  },
  "language_info": {
   "codemirror_mode": {
    "name": "ipython",
    "version": 2
   },
   "file_extension": ".py",
   "mimetype": "text/x-python",
   "name": "python",
   "nbconvert_exporter": "python",
   "pygments_lexer": "ipython2",
   "version": "2.7.12"
  }
 },
 "nbformat": 4,
 "nbformat_minor": 1
}
